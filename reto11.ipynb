{
 "cells": [
  {
   "cell_type": "markdown",
   "metadata": {},
   "source": [
    "1. Desarrolle un programa que permita realizar la suma/resta de matrices. El programa debe validar las condiciones necesarias para ejecutar la operación."
   ]
  },
  {
   "cell_type": "code",
   "execution_count": 1,
   "metadata": {},
   "outputs": [
    {
     "name": "stdout",
     "output_type": "stream",
     "text": [
      "Matriz 1:\n",
      "[1, 2]\n",
      "[3, 4]\n",
      "Matriz 2:\n",
      "[6, 7]\n",
      "[8, 9]\n",
      "El resultado de la suma de las matrices es:\n",
      "[7, 9]\n",
      "[11, 13]\n",
      "El resultado de la resta de las matrices es:\n",
      "[-5, -5]\n",
      "[-5, -5]\n"
     ]
    }
   ],
   "source": [
    "def ingresarMatriz(nombre):    #Función que lee los datos de la matriz\n",
    "    matriz = []\n",
    "    f = int(input(f\"Ingrese el número de filas de la matriz No. {nombre}:    \"))\n",
    "    c = int(input(f\"Ingrese el número de columnas de la matriz No. {nombre}: \"))\n",
    "    for i in range(f):\n",
    "        fila = []\n",
    "        for j in range(c):\n",
    "            valor = int(input(f\"Ingrese el valor de la matriz No. {nombre} en la posición ({i}, {j}) : \"))\n",
    "            fila.append(valor)\n",
    "        matriz.append(fila)\n",
    "    return matriz\n",
    "\n",
    "def sumarMatrices(m1, m2):    # Función que suma dos matrices\n",
    "    resultado = []\n",
    "    for i in range(len(m1)):\n",
    "        fila = []\n",
    "        for j in range(len(m1[0])):\n",
    "            fila.append(m1[i][j] + m2[i][j])\n",
    "        resultado.append(fila)\n",
    "    return resultado\n",
    "\n",
    "def restarMatrices(m1, m2):   # Función que resta dos matrices\n",
    "    resultado = []\n",
    "    for i in range(len(m1)):\n",
    "        fila = []\n",
    "        for j in range(len(m1[0])):\n",
    "            fila.append(m1[i][j] - m2[i][j])\n",
    "        resultado.append(fila)\n",
    "    return resultado\n",
    "\n",
    "m1 = ingresarMatriz(\"1\")      # Ingreso del usuario de las 2 matrices\n",
    "m2 = ingresarMatriz(\"2\")\n",
    "\n",
    "print(\"Matriz 1:\")            # Imprimir matriz 1\n",
    "for fila in m1:\n",
    "    print(fila)\n",
    "\n",
    "print(\"Matriz 2:\")            # Imprimir matriz 2\n",
    "for fila in m2:\n",
    "    print(fila)\n",
    "\n",
    "\n",
    "if len(m1) != len(m2) or len(m1[0]) != len(m2[0]):    # Verificar el tamaño de las matrices\n",
    "    print(\"Las matrices no tienen el mismo tamaño. No se pueden sumar.\")\n",
    "else:\n",
    "    resultadoSuma = sumarMatrices(m1, m2)                 # Sumar matrices\n",
    "    print(\"El resultado de la suma de las matrices es:\")  # Imprimir la suma\n",
    "    for fila in resultadoSuma:\n",
    "        print(fila)\n",
    "    \n",
    "    resultadoResta = restarMatrices(m1, m2)                # Restar matrices\n",
    "    print(\"El resultado de la resta de las matrices es:\")  # Imprimir la resta\n",
    "    for fila in resultadoResta:\n",
    "        print(fila)"
   ]
  },
  {
   "cell_type": "markdown",
   "metadata": {},
   "source": [
    "2. Desarrolle un programa que permita realizar el producto de matrices. El programa debe validar las condiciones necesarias para ejecutar la operación."
   ]
  },
  {
   "cell_type": "code",
   "execution_count": 2,
   "metadata": {},
   "outputs": [
    {
     "name": "stdout",
     "output_type": "stream",
     "text": [
      "Matriz 1:\n",
      "[7, 8, 9]\n",
      "Matriz 2:\n",
      "[6]\n",
      "[5]\n",
      "[4]\n",
      "La matriz resultado del producto:\n",
      "[118]\n"
     ]
    }
   ],
   "source": [
    "def ingresarMatriz(filas, columnas):  # Función para ingresar valores de la matriz\n",
    "    matriz = []\n",
    "    for i in range(filas):\n",
    "        fila = []\n",
    "        for j in range(columnas):\n",
    "            valor = int(input(f\"Ingrese el valor en la posición ({i}, {j}): \"))\n",
    "            fila.append(valor)\n",
    "        matriz.append(fila)\n",
    "    return matriz\n",
    "\n",
    "def multiplicarMatrices(m1, m2):  # Función que multiplica dos matrices\n",
    "    f1 = len(m1)\n",
    "    c2 = len(m2[0])\n",
    "    resultado = [[0] * c2 for i in range(f1)]\n",
    "    for i in range(f1):\n",
    "        for j in range(c2):\n",
    "            for k in range(len(m2)):\n",
    "                resultado[i][j] += m1[i][k] * m2[k][j]\n",
    "    return resultado\n",
    "\n",
    "# Ingreso del usuario de las matrices\n",
    "f1 = int(input(\"Ingrese el número de filas de la matriz No. 1:    \"))\n",
    "c1 = int(input(\"Ingrese el número de columnas de la matriz No. 1: \"))\n",
    "m1 = ingresarMatriz(f1, c1)\n",
    "\n",
    "f2 = int(input(\"Ingrese el número de filas de la matriz No. 2:    \"))\n",
    "c2 = int(input(\"Ingrese el número de columnas de la matriz No. 2: \"))\n",
    "m2 = ingresarMatriz(f2, c2)\n",
    "\n",
    "print(\"Matriz 1:\")    # Imprimir matriz 1\n",
    "for fila in m1:\n",
    "    print(fila)\n",
    "\n",
    "print(\"Matriz 2:\")    # Imprimir matriz 2\n",
    "for fila in m2:\n",
    "    print(fila)\n",
    "\n",
    "if c1 != f2:\n",
    "    print(\"El número de columnas de la primera matriz debe ser igual al número de filas de la segunda matriz. No se pueden multiplicar las matrices.\")\n",
    "else:\n",
    "    resultado = multiplicarMatrices(m1, m2)     # Multiplicar las matrices\n",
    "    print(\"La matriz resultado del producto:\")  # Imprimir la matriz resultado\n",
    "    for fila in resultado:\n",
    "        print(fila)"
   ]
  },
  {
   "cell_type": "markdown",
   "metadata": {},
   "source": [
    "3. Desarrolle un programa que permita obtener la matriz transpuesta de una matriz ingresada. El programa debe validar las condiciones necesarias para ejecutar la operación."
   ]
  },
  {
   "cell_type": "code",
   "execution_count": 3,
   "metadata": {},
   "outputs": [
    {
     "name": "stdout",
     "output_type": "stream",
     "text": [
      "Matriz ingresada:\n",
      "[1, 2, 3]\n",
      "[4, 5, 6]\n",
      "Matriz transpuesta:\n",
      "[1, 4]\n",
      "[2, 5]\n",
      "[3, 6]\n"
     ]
    }
   ],
   "source": [
    "def matrizTranspuesta(m):    # Función que hace una matriz transpuesta\n",
    "    resultado = []    \n",
    "    for j in range(len(m[0])):\n",
    "        fila = []\n",
    "        for i in range(len(m)):\n",
    "            fila.append(m[i][j])   # Agregar el valor de la celda (i,j) a la nueva fila\n",
    "        resultado.append(fila)\n",
    "    return resultado\n",
    "\n",
    "m = []\n",
    "f = int(input(\"Ingrese el número de filas de la matriz:    \"))  # Ingreso del usuario\n",
    "c = int(input(\"Ingrese el número de columnas de la matriz: \"))\n",
    "\n",
    "for i in range(f):\n",
    "    fila = []\n",
    "    for j in range(c):\n",
    "        valor = int(input(f\"Ingrese el valor en la posición ({i}, {j}): \"))\n",
    "        fila.append(valor)\n",
    "    m.append(fila)\n",
    "\n",
    "print(\"Matriz ingresada:\")   # Imprimir matriz ingresada\n",
    "for fila in m:\n",
    "    print(fila)\n",
    "\n",
    "resultadoTranspuesta = matrizTranspuesta(m)  # Calcular matriz transpuesta\n",
    "print(\"Matriz transpuesta:\")              # Imprimir la matriz transpuesta\n",
    "for fila in resultadoTranspuesta:\n",
    "    print(fila)"
   ]
  },
  {
   "cell_type": "markdown",
   "metadata": {},
   "source": [
    "4. Desarrollar un programa que sume los elementos de una columna dada de una matriz."
   ]
  },
  {
   "cell_type": "code",
   "execution_count": 4,
   "metadata": {},
   "outputs": [
    {
     "name": "stdout",
     "output_type": "stream",
     "text": [
      "Matriz ingresada:\n",
      "[1, 2, 3, 4]\n",
      "[5, 6, 7, 8]\n",
      "[9, 1, 2, 3]\n",
      "La suma de los elementos de la columna 2 es: 9\n"
     ]
    }
   ],
   "source": [
    "def sumarColumna(matriz, columna):   # Función para sumar los elementos de una columna dada de una matriz\n",
    "    if columna < 0 or columna >= len(matriz[0]):     # Verificar que la columna sea válida\n",
    "        print(\"La columna ingresada no es válida.\")\n",
    "        return None\n",
    "    suma = 0\n",
    "    for fila in matriz:       # Sumar los elementos de la columna\n",
    "        suma += fila[columna]\n",
    "    return suma\n",
    "\n",
    "matriz = []\n",
    "filas =    int(input(\"Ingrese el número de filas de la matriz:    \"))\n",
    "columnas = int(input(\"Ingrese el número de columnas de la matriz: \"))\n",
    "\n",
    "for i in range(filas):\n",
    "    fila = []\n",
    "    for j in range(columnas):\n",
    "        valor = int(input(f\"Ingrese el valor en la posición ({i}, {j}) : \"))\n",
    "        fila.append(valor)\n",
    "    matriz.append(fila)\n",
    "\n",
    "print(\"Matriz ingresada:\")   # Imprimir matriz ingresada\n",
    "for fila in matriz:\n",
    "    print(fila)\n",
    "\n",
    "# Ingreso del usuario la columna a sumar\n",
    "columna = int(input(\"Ingrese el número de la columna a sumar: (primera 1, segunda 2, ...): \"))\n",
    "\n",
    "resultadoSuma = sumarColumna(matriz, columna-1)    # Sumar elementos de la columna\n",
    "\n",
    "print(\"La suma de los elementos de la columna \" +  str(columna) + \" es: \" + str(resultadoSuma))  # Imprimir resultado"
   ]
  },
  {
   "cell_type": "markdown",
   "metadata": {},
   "source": [
    "5. Desarrollar un programa que sume los elementos de una fila dada de una matriz."
   ]
  },
  {
   "cell_type": "code",
   "execution_count": 5,
   "metadata": {},
   "outputs": [
    {
     "name": "stdout",
     "output_type": "stream",
     "text": [
      "Matriz ingresada:\n",
      "[1, 2, 3, 4]\n",
      "[5, 6, 7, 8]\n",
      "[9, 1, 2, 3]\n",
      "La suma de los elementos de la fila 1 es: 10\n"
     ]
    }
   ],
   "source": [
    "def sumarFila(matriz, fila):    # Función para sumar los elementos de una fila dada de una matriz\n",
    "    if fila < 0 or fila >= len(matriz):    # Verificar que la fila sea válida\n",
    "        print(\"La fila ingresada no es válida.\")\n",
    "        return None\n",
    "    suma = 0\n",
    "    for elemento in matriz[fila]:    # Sumar los elementos de la fila\n",
    "        suma += elemento\n",
    "    return suma\n",
    "\n",
    "matriz = []\n",
    "filas =    int(input(\"Ingrese el número de filas de la matriz:    \"))  # Ingreso del usuario\n",
    "columnas = int(input(\"Ingrese el número de columnas de la matriz: \"))\n",
    "\n",
    "for i in range(filas):\n",
    "    fila = []\n",
    "    for j in range(columnas):\n",
    "        valor = int(input(f\"Ingrese el valor en la posición ({i}, {j}) : \"))\n",
    "        fila.append(valor)\n",
    "    matriz.append(fila)\n",
    "\n",
    "print(\"Matriz ingresada:\")   # Imprimir matriz ingresada\n",
    "for fila in matriz:\n",
    "    print(fila)\n",
    "\n",
    "# Ingreso del usuario de la fila a sumar\n",
    "fila = int(input(\"Ingrese el número de la fila a sumar: (primera 1, segunda 2, ...): \"))\n",
    "\n",
    "resultadoSuma = sumarFila(matriz, fila-1)    # Sumar los elementos de la fila\n",
    "print(\"La suma de los elementos de la fila \" +  str(fila) + \" es: \" + str(resultadoSuma))"
   ]
  }
 ],
 "metadata": {
  "kernelspec": {
   "display_name": "Python 3",
   "language": "python",
   "name": "python3"
  },
  "language_info": {
   "codemirror_mode": {
    "name": "ipython",
    "version": 3
   },
   "file_extension": ".py",
   "mimetype": "text/x-python",
   "name": "python",
   "nbconvert_exporter": "python",
   "pygments_lexer": "ipython3",
   "version": "3.9.6"
  },
  "orig_nbformat": 4
 },
 "nbformat": 4,
 "nbformat_minor": 2
}
